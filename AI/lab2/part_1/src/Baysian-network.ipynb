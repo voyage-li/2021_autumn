{
 "cells": [
  {
   "cell_type": "code",
   "execution_count": 1,
   "metadata": {},
   "outputs": [],
   "source": [
    "import numpy as np\n",
    "import pandas as pd"
   ]
  },
  {
   "cell_type": "code",
   "execution_count": 2,
   "metadata": {},
   "outputs": [],
   "source": [
    "class BayesianNetwork:\n",
    "    def __init__(self, n_labels=10, n_pixels=784, n_values=2) -> None:\n",
    "        '''\n",
    "        n_labels: number of labels, 10 for digit recognition\n",
    "        n_pixels: number of pixels, 256 for 16x16 image\n",
    "        n_values: number of values for each pixel, 0 for black, 1 for white\n",
    "        '''\n",
    "        self.n_labels = n_labels\n",
    "        self.n_pixels = n_pixels\n",
    "        self.n_values = n_values\n",
    "        # prior probability\n",
    "        self.labels_prior = np.zeros(n_labels)\n",
    "        self.pixels_prior = np.zeros((n_pixels, n_values))\n",
    "        # conditional probability\n",
    "        self.pixels_cond_label = np.zeros((n_pixels, n_values, n_labels))\n",
    "\n",
    "    # fit the model with training data\n",
    "    def fit(self, pixels, labels):\n",
    "        '''\n",
    "        pixels: (n_samples, n_pixels, )\n",
    "        labels: (n_samples, )\n",
    "        '''\n",
    "        n_samples = len(labels)\n",
    "        # TODO: calculate prior probability and conditional probability\n",
    "\n",
    "        # Calculate prior probability\n",
    "        for label in labels:\n",
    "            self.labels_prior[label] += 1\n",
    "        \n",
    "        # Calculate conditional probability\n",
    "        for i in range(n_samples):\n",
    "            label = labels[i]\n",
    "            for pixel in range(self.n_pixels):\n",
    "                pixel_value = pixels[i, pixel]\n",
    "                self.pixels_prior[pixel, pixel_value] += 1\n",
    "                self.pixels_cond_label[pixel, pixel_value, label] += 1\n",
    "                \n",
    "        # Normalize conditional probability\n",
    "        for pixel in range(self.n_pixels):\n",
    "            for value in range(self.n_values):\n",
    "                self.pixels_prior[pixel, value] /= n_samples\n",
    "                for label in range(self.n_labels):\n",
    "                    self.pixels_cond_label[pixel, value, label] /= self.labels_prior[label]\n",
    "        \n",
    "        self.labels_prior /= n_samples\n",
    "\n",
    "    # predict the labels for new data\n",
    "    def predict(self, pixels):\n",
    "        '''\n",
    "        pixels: (n_samples, n_pixels, )\n",
    "        return labels: (n_samples, )\n",
    "        '''\n",
    "        n_samples = len(pixels)\n",
    "        labels = np.zeros(n_samples)\n",
    "        # TODO: predict for new data\n",
    "        \n",
    "        for i in range(n_samples):\n",
    "            pixel_values = pixels[i]\n",
    "            label_scores = np.zeros(self.n_labels)\n",
    "            \n",
    "            for label in range(self.n_labels):\n",
    "                label_scores[label] = self.labels_prior[label]\n",
    "                for pixel in range(self.n_pixels):\n",
    "                    pixel_value = pixel_values[pixel]\n",
    "                    label_scores[label] *= self.pixels_cond_label[pixel, pixel_value, label]\n",
    "                    \n",
    "            labels[i] = np.argmax(label_scores)\n",
    "        \n",
    "        return labels\n",
    "\n",
    "    # calculate the score (accuracy) of the model\n",
    "    def score(self, pixels, labels):\n",
    "        '''\n",
    "        pixels: (n_samples, n_pixels, )\n",
    "        labels: (n_samples, )\n",
    "        '''\n",
    "        n_samples = len(labels)\n",
    "        labels_pred = self.predict(pixels)\n",
    "        return np.sum(labels_pred == labels) / n_samples"
   ]
  },
  {
   "cell_type": "code",
   "execution_count": 3,
   "metadata": {},
   "outputs": [
    {
     "name": "stdout",
     "output_type": "stream",
     "text": [
      "[[0 0 0 ... 0 0 0]\n",
      " [0 0 0 ... 0 0 0]\n",
      " [0 0 0 ... 0 0 0]\n",
      " ...\n",
      " [0 0 0 ... 0 0 0]\n",
      " [0 0 0 ... 0 0 0]\n",
      " [0 0 0 ... 0 0 0]] [5 0 4 ... 5 6 8]\n"
     ]
    }
   ],
   "source": [
    "# load data\n",
    "train_data = np.loadtxt('../data/train.csv', delimiter=',', dtype=np.uint8)\n",
    "test_data = np.loadtxt('../data/test.csv', delimiter=',', dtype=np.uint8)\n",
    "pixels_train, labels_train = train_data[:, :-1], train_data[:, -1]\n",
    "pixels_test, labels_test = test_data[:, :-1], test_data[:, -1]\n",
    "print(pixels_train, labels_train)"
   ]
  },
  {
   "cell_type": "code",
   "execution_count": 4,
   "metadata": {},
   "outputs": [],
   "source": [
    "\n",
    "# build bayesian network\n",
    "bn = BayesianNetwork()\n",
    "bn.fit(pixels_train, labels_train)"
   ]
  },
  {
   "cell_type": "code",
   "execution_count": 5,
   "metadata": {},
   "outputs": [
    {
     "name": "stdout",
     "output_type": "stream",
     "text": [
      "Test score: 0.843800\n"
     ]
    }
   ],
   "source": [
    "\n",
    "print('Test score: %f' % bn.score(pixels_test, labels_test))"
   ]
  }
 ],
 "metadata": {
  "kernelspec": {
   "display_name": "ai",
   "language": "python",
   "name": "python3"
  },
  "language_info": {
   "codemirror_mode": {
    "name": "ipython",
    "version": 3
   },
   "file_extension": ".py",
   "mimetype": "text/x-python",
   "name": "python",
   "nbconvert_exporter": "python",
   "pygments_lexer": "ipython3",
   "version": "3.8.16"
  },
  "orig_nbformat": 4
 },
 "nbformat": 4,
 "nbformat_minor": 2
}
